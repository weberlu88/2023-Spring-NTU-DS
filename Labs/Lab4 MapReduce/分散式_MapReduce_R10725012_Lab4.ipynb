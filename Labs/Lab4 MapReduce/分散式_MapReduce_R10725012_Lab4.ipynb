{
  "nbformat": 4,
  "nbformat_minor": 0,
  "metadata": {
    "colab": {
      "provenance": []
    },
    "kernelspec": {
      "name": "python3",
      "display_name": "Python 3"
    },
    "language_info": {
      "name": "python"
    }
  },
  "cells": [
    {
      "cell_type": "markdown",
      "source": [
        "R10725012 呂晟維  \n",
        "情境: Count of URL Access Frequency\n",
        "- 每次 user 造訪一個網頁，就會留下一則改網站 domain name 的 Log，將 domain name 儲存在 array 中。(可以想像成實體機器的硬碟)\n",
        "- 測試資料共有 1000 則 Log，每條 Log 都記錄了 user 造訪的網域名稱。情境中有 8 種網域被造訪，依照指定的數目產生測資並打亂。\n",
        "- 在所有的網頁請求中，我們只監控 user 使用 \"https://www.messenger.com\" 和 \"https://chat.openai.com\" 的情形，看看他們是否偷懶聊天和找答案。\n",
        "\n",
        "\n",
        "Map Stage\n",
        "- 總共 1000 則 Log 切成 10 份區塊交由 10 個 map worker，個別執行關鍵字查詢的工作。\n",
        "- Map worker 會接受一段區段的 array，由主程式指派資料區段 (實際上會給硬碟磁區的 start_index 和 end_index)。Map worker 會遍歷區段的 subarray 的記錄，若發現目標網域的紀錄，則輸出成 key-value pair <\"domain\": 1> 到一個 List 中。\n",
        "- return 中間產物的 List of dict (key-value) 給主程式。\n",
        "\n",
        "Reduce Stage\n",
        "- 等待所有 map worker 計數完成並回傳，主程式會將所有的 List 蒐集並串接成一個 List of dict (可以想像成主程式知道 map worker 的資料的實際儲存位址)\n",
        "- 將 Array 指派給 reduce worker 來進行加總。一個 reduce woker 負責累加一個 domain 的造訪次數，回傳一個單值表示最終的結果。實作上方便起見，使用一個 reduce woker 便完成加總的工作了。\n",
        "\n",
        "最後主程式 display mapReduce 的過程和統計的結果。得出被監控的每個網域分別被造訪幾次。"
      ],
      "metadata": {
        "id": "fsyv6gNVB2RE"
      }
    },
    {
      "cell_type": "markdown",
      "source": [
        "## 產生測試資料"
      ],
      "metadata": {
        "id": "FZK7j04RIVv6"
      }
    },
    {
      "cell_type": "code",
      "execution_count": null,
      "metadata": {
        "id": "Zqa-hrn_HZ_N",
        "colab": {
          "base_uri": "https://localhost:8080/"
        },
        "outputId": "a71bf6d5-98f5-41a0-b655-8e918f41f2c2"
      },
      "outputs": [
        {
          "output_type": "execute_result",
          "data": {
            "text/plain": [
              "1000"
            ]
          },
          "metadata": {},
          "execution_count": 1
        }
      ],
      "source": [
        "# len of 8 domain names\n",
        "domains = [\n",
        "    \"https://chat.openai.com\",\n",
        "    \"https://wiki.biligame.com\",\n",
        "    \"https://music.youtube.com\",\n",
        "    \"https://www.mybib.com\",\n",
        "    \"https://www.messenger.com\",\n",
        "    \"https://www.techpowerup.com\",\n",
        "    \"https://imgur.com\",\n",
        "    \"https://my.ntu.edu.tw\"\n",
        "]\n",
        "counts = [100, 10, 88, 77, 500, 166, 33, 26]\n",
        "sum(counts)"
      ]
    },
    {
      "cell_type": "code",
      "source": [
        "# generate 1000 log data & shuffle with a seed\n",
        "log_data = []\n",
        "for domain, count in zip(domains, counts):\n",
        "    log_data.extend([domain] *count)\n",
        "\n",
        "import random\n",
        "random.Random(44444).shuffle(log_data)\n",
        "log_data[:5]"
      ],
      "metadata": {
        "colab": {
          "base_uri": "https://localhost:8080/"
        },
        "id": "fzs7R-9RJzTC",
        "outputId": "71f2fd94-cb68-4ae6-91bd-5a6d9a33354c"
      },
      "execution_count": null,
      "outputs": [
        {
          "output_type": "execute_result",
          "data": {
            "text/plain": [
              "['https://www.messenger.com',\n",
              " 'https://www.messenger.com',\n",
              " 'https://www.techpowerup.com',\n",
              " 'https://www.messenger.com',\n",
              " 'https://www.messenger.com']"
            ]
          },
          "metadata": {},
          "execution_count": 2
        }
      ]
    },
    {
      "cell_type": "markdown",
      "source": [
        "## Step: Map\n",
        "input: log data after splited"
      ],
      "metadata": {
        "id": "zzfKNd_7IZC4"
      }
    },
    {
      "cell_type": "code",
      "source": [
        "def map_worker(data: list):\n",
        "    result = {}\n",
        "    for record in data:\n",
        "        if record == \"https://www.messenger.com\":\n",
        "            result[record] = result.get(record, 0) + 1\n",
        "        elif record == \"https://chat.openai.com\":\n",
        "            result[record] = result.get(record, 0) + 1\n",
        "    return result"
      ],
      "metadata": {
        "id": "UQ_4nbflIbFu"
      },
      "execution_count": null,
      "outputs": []
    },
    {
      "cell_type": "markdown",
      "source": [
        "## Step: Reduce\n",
        "input: the intergrated map result"
      ],
      "metadata": {
        "id": "sLFs-Uy4IcxX"
      }
    },
    {
      "cell_type": "code",
      "source": [
        "def reduce_worker(results:list[dict], target_domain:str=None):\n",
        "    final_result = {}\n",
        "    for result in results:\n",
        "        for domain, count in result.items():\n",
        "            if target_domain and domain != target_domain:\n",
        "                continue\n",
        "            final_result[domain] = final_result.get(domain, 0) + count\n",
        "    return final_result"
      ],
      "metadata": {
        "id": "0AnOaTvEIePF"
      },
      "execution_count": null,
      "outputs": []
    },
    {
      "cell_type": "markdown",
      "source": [
        "## Full Code\n",
        "- https://docs.python.org/3/library/multiprocessing.html#using-a-pool-of-workers"
      ],
      "metadata": {
        "id": "IO6g105hMcca"
      }
    },
    {
      "cell_type": "code",
      "source": [
        "from multiprocessing import Pool\n",
        "\n",
        "def map_worker(data):\n",
        "    result = {}\n",
        "    for record in data:\n",
        "        if record == \"https://www.messenger.com\":\n",
        "            result[record] = result.get(record, 0) + 1\n",
        "        elif record == \"https://chat.openai.com\":\n",
        "            result[record] = result.get(record, 0) + 1\n",
        "    return result\n",
        "\n",
        "def reduce_worker(results:list[dict], target_domain:str=None):\n",
        "    final_result = {}\n",
        "    for result in results:\n",
        "        for domain, count in result.items():\n",
        "            if target_domain and domain != target_domain:\n",
        "                continue\n",
        "            final_result[domain] = final_result.get(domain, 0) + count\n",
        "    return final_result\n",
        "\n",
        "def main(log_data: list):\n",
        "    # Split log_data into chunks for map workers\n",
        "    chunk_size = len(log_data) // 10\n",
        "    chunks = [log_data[i:i+chunk_size] for i in range(0, len(log_data), chunk_size)]\n",
        "\n",
        "    # Map stage - process chunks using map workers\n",
        "    with Pool(processes=10) as pool:\n",
        "        map_results:list[dict] = pool.map(map_worker, chunks)\n",
        "        # print(map_results)\n",
        "\n",
        "    # Reduce stage - process map results using reduce worker\n",
        "    reduce_result = reduce_worker(map_results)\n",
        "\n",
        "    # Display the result\n",
        "    for domain, count in reduce_result.items():\n",
        "        print(f\"Target Domain: {domain}, Visits: {count}\")\n",
        "\n",
        "    return map_results, reduce_result\n",
        "\n",
        "if __name__ == '__main__':\n",
        "    print(f\"Raw data lenght: {len(log_data)} \\n\\n*結果*\")\n",
        "    map_results, reduce_result = main(log_data)\n",
        "\n",
        "    print('\\n回頭檢視 Map 的過程:')\n",
        "    for i,m in enumerate(map_results):\n",
        "        print(f\"map worker [{i}]'s output: {m}\")"
      ],
      "metadata": {
        "colab": {
          "base_uri": "https://localhost:8080/"
        },
        "id": "JyHViNcGGApK",
        "outputId": "26e86032-2432-486e-92bd-0cd85d63aac2"
      },
      "execution_count": null,
      "outputs": [
        {
          "output_type": "stream",
          "name": "stdout",
          "text": [
            "Raw data lenght: 1000 \n",
            "\n",
            "*結果*\n",
            "Target Domain: https://www.messenger.com, Visits: 500\n",
            "Target Domain: https://chat.openai.com, Visits: 100\n",
            "\n",
            "回頭檢視 Map 的過程:\n",
            "map worker [0]'s output: {'https://www.messenger.com': 50, 'https://chat.openai.com': 8}\n",
            "map worker [1]'s output: {'https://www.messenger.com': 46, 'https://chat.openai.com': 14}\n",
            "map worker [2]'s output: {'https://www.messenger.com': 53, 'https://chat.openai.com': 9}\n",
            "map worker [3]'s output: {'https://www.messenger.com': 49, 'https://chat.openai.com': 6}\n",
            "map worker [4]'s output: {'https://www.messenger.com': 52, 'https://chat.openai.com': 8}\n",
            "map worker [5]'s output: {'https://www.messenger.com': 59, 'https://chat.openai.com': 9}\n",
            "map worker [6]'s output: {'https://www.messenger.com': 49, 'https://chat.openai.com': 9}\n",
            "map worker [7]'s output: {'https://www.messenger.com': 50, 'https://chat.openai.com': 11}\n",
            "map worker [8]'s output: {'https://chat.openai.com': 11, 'https://www.messenger.com': 48}\n",
            "map worker [9]'s output: {'https://www.messenger.com': 44, 'https://chat.openai.com': 15}\n"
          ]
        }
      ]
    },
    {
      "cell_type": "markdown",
      "source": [
        "這邊我們驗證計算結果，確認 messenger.com 有 500 次造訪，openai.com 有 100 次造訪。"
      ],
      "metadata": {
        "id": "OkgW5qoANykP"
      }
    },
    {
      "cell_type": "code",
      "source": [
        "# validate the counts\n",
        "import pandas as pd\n",
        "pd.Series(log_data).value_counts()"
      ],
      "metadata": {
        "colab": {
          "base_uri": "https://localhost:8080/"
        },
        "id": "odOWjR2WGNSD",
        "outputId": "6a888531-cc28-4149-a262-ac71519d9d11"
      },
      "execution_count": null,
      "outputs": [
        {
          "output_type": "execute_result",
          "data": {
            "text/plain": [
              "https://www.messenger.com      500\n",
              "https://www.techpowerup.com    166\n",
              "https://chat.openai.com        100\n",
              "https://music.youtube.com       88\n",
              "https://www.mybib.com           77\n",
              "https://imgur.com               33\n",
              "https://my.ntu.edu.tw           26\n",
              "https://wiki.biligame.com       10\n",
              "dtype: int64"
            ]
          },
          "metadata": {},
          "execution_count": 6
        }
      ]
    },
    {
      "cell_type": "code",
      "source": [],
      "metadata": {
        "id": "vTTBTkt9Q1CT"
      },
      "execution_count": null,
      "outputs": []
    }
  ]
}